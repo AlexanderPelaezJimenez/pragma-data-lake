{
 "cells": [
  {
   "cell_type": "code",
   "execution_count": 1,
   "id": "e5e197c8",
   "metadata": {},
   "outputs": [],
   "source": [
    "import great_expectations as gx"
   ]
  },
  {
   "cell_type": "code",
   "execution_count": 2,
   "id": "4eacddca",
   "metadata": {},
   "outputs": [
    {
     "name": "stdout",
     "output_type": "stream",
     "text": [
      "1.4.2\n"
     ]
    }
   ],
   "source": [
    "print(gx.__version__)"
   ]
  },
  {
   "cell_type": "code",
   "execution_count": 3,
   "id": "770ff407",
   "metadata": {},
   "outputs": [],
   "source": [
    "import pandas as pd"
   ]
  },
  {
   "cell_type": "markdown",
   "id": "5f0d79dd",
   "metadata": {},
   "source": [
    "# 1. Crear un File Data Context\n",
    "\n",
    "Un Contexto de Datos define la ubicación de almacenamiento para los metadatos, tales como sus configuraciones para Fuentes de Datos, Suites de Expectativas, Puntos de Verificación y Documentos de Datos. También contiene sus resultados de validación y las métricas asociadas a ellos, y proporciona acceso a esos objetos en Python, junto con otras funciones de ayuda para la API GX Python.\n",
    "\n",
    "Todos los scripts que utilizan GX Core deben comenzar con la creación de un Contexto de datos.\n",
    "\n",
    "A continuación se indican los tipos de Contexto de datos disponibles:\n",
    "\n",
    "* **File Data Context:** Un Contexto de Datos persistente que almacena metadatos e información de configuración como archivos YAML dentro de un sistema de archivos. Los contextos de datos de archivos permiten reutilizar conjuntos de expectativas, fuentes de datos y puntos de comprobación previamente configurados.\n",
    "\n",
    "* **Ephemeral Data Context:** Un Contexto de Datos temporal que almacena metadatos e información de configuración en memoria. Este Contexto de Datos no persistirá más allá de la sesión actual de Python. Los Contextos de Datos efímeros son útiles cuando no tienes permisos de escritura en un sistema de archivos o si vas a dedicarte a la exploración de datos sin necesidad de guardar tus resultados. "
   ]
  },
  {
   "cell_type": "markdown",
   "id": "0bd78cdf",
   "metadata": {},
   "source": [
    "Puede solicitar un File Data Context específico proporcionando una ruta de carpeta con el parámetro project_root_dir. Si existe un Contexto de Datos de Fichero en la carpeta especificada, se instanciará y se devolverá. Si no se encuentra un Contexto de Datos de Fichero en la carpeta especificada, se creará un nuevo Contexto de Datos de Fichero."
   ]
  },
  {
   "cell_type": "code",
   "execution_count": 6,
   "id": "1318d688",
   "metadata": {},
   "outputs": [],
   "source": [
    "context = gx.get_context(\n",
    "    mode=\"file\",\n",
    "    project_root_dir=\"../data_context\"\n",
    ")"
   ]
  },
  {
   "cell_type": "code",
   "execution_count": 5,
   "id": "dc918f4f",
   "metadata": {},
   "outputs": [
    {
     "name": "stdout",
     "output_type": "stream",
     "text": [
      "{\n",
      "  \"checkpoint_store_name\": \"checkpoint_store\",\n",
      "  \"config_variables_file_path\": \"uncommitted/config_variables.yml\",\n",
      "  \"config_version\": 4.0,\n",
      "  \"data_context_id\": \"1164e65a-2099-4050-9951-10f80ef8f92e\",\n",
      "  \"data_docs_sites\": {\n",
      "    \"local_site\": {\n",
      "      \"class_name\": \"SiteBuilder\",\n",
      "      \"show_how_to_buttons\": true,\n",
      "      \"store_backend\": {\n",
      "        \"class_name\": \"TupleFilesystemStoreBackend\",\n",
      "        \"base_directory\": \"uncommitted/data_docs/local_site/\"\n",
      "      },\n",
      "      \"site_index_builder\": {\n",
      "        \"class_name\": \"DefaultSiteIndexBuilder\"\n",
      "      }\n",
      "    }\n",
      "  },\n",
      "  \"expectations_store_name\": \"expectations_store\",\n",
      "  \"fluent_datasources\": {},\n",
      "  \"plugins_directory\": \"plugins/\",\n",
      "  \"stores\": {\n",
      "    \"expectations_store\": {\n",
      "      \"class_name\": \"ExpectationsStore\",\n",
      "      \"store_backend\": {\n",
      "        \"class_name\": \"TupleFilesystemStoreBackend\",\n",
      "        \"base_directory\": \"expectations/\"\n",
      "      }\n",
      "    },\n",
      "    \"validation_results_store\": {\n",
      "      \"class_name\": \"ValidationResultsStore\",\n",
      "      \"store_backend\": {\n",
      "        \"class_name\": \"TupleFilesystemStoreBackend\",\n",
      "        \"base_directory\": \"uncommitted/validations/\"\n",
      "      }\n",
      "    },\n",
      "    \"checkpoint_store\": {\n",
      "      \"class_name\": \"CheckpointStore\",\n",
      "      \"store_backend\": {\n",
      "        \"class_name\": \"TupleFilesystemStoreBackend\",\n",
      "        \"suppress_store_backend_id\": true,\n",
      "        \"base_directory\": \"checkpoints/\"\n",
      "      }\n",
      "    },\n",
      "    \"validation_definition_store\": {\n",
      "      \"class_name\": \"ValidationDefinitionStore\",\n",
      "      \"store_backend\": {\n",
      "        \"class_name\": \"TupleFilesystemStoreBackend\",\n",
      "        \"base_directory\": \"validation_definitions/\"\n",
      "      }\n",
      "    }\n",
      "  },\n",
      "  \"validation_results_store_name\": \"validation_results_store\"\n",
      "}\n"
     ]
    }
   ],
   "source": [
    "print(context)"
   ]
  },
  {
   "cell_type": "markdown",
   "id": "fa4c6e88",
   "metadata": {},
   "source": [
    "# 2. Conectarse a un Filesystem data\n",
    "\n",
    "Los datos del sistema de archivos consisten en datos almacenados en formatos de archivo como .csv o .parquet, y ubicados en un entorno con una jerarquía de carpetas como Amazon S3, Azure Blob Storage, Google Cloud Storage, o sistemas de archivos locales y en red. GX puede utilizar pandas o Spark para leer estos datos.\n",
    "\n",
    "Para conectarse a los datos de su sistema de archivos, primero debe crear una fuente de datos que indique a GX dónde residen sus archivos de datos. A continuación, configure los Activos de Datos para su Fuente de Datos para indicar a GX a qué conjuntos de registros desea poder acceder desde su Fuente de Datos. Por último, definirá las Definiciones de lote que le permitirán solicitar todos los registros recuperados de un Activo de datos o dividir aún más los registros devueltos en función de una fecha especificada."
   ]
  },
  {
   "cell_type": "markdown",
   "id": "bc2dcd93",
   "metadata": {},
   "source": [
    "## Crear un Data Source\n",
    "\n",
    "Las fuentes de datos indican a GX dónde se encuentran sus datos y cómo conectarse a ellos. Con los datos del sistema de archivos, esto se hace dirigiendo GX a la carpeta o ubicación en línea que contiene los archivos de datos. GX admite el acceso a datos de sistemas de archivos desde Amazon S3, Azure Blob Storage, Google Cloud Storage y sistemas de archivos locales o en red."
   ]
  },
  {
   "cell_type": "markdown",
   "id": "57e75391",
   "metadata": {},
   "source": [
    "1. Defina los parámetros de la fuente de datos.\n",
    "\n",
    "La siguiente información es necesaria cuando se crea una Fuente de Datos Filesystem para un directorio local o en red:\n",
    "\n",
    "* name: Un nombre descriptivo utilizado para hacer referencia a la Fuente de Datos. Debe ser único dentro del contexto de datos.\n",
    "* base_directory: La ruta a la carpeta que contiene los archivos de datos, o la carpeta raíz de la jerarquía de directorios que contiene los archivos de datos.\n",
    "\n",
    "Si utiliza un contexto de datos de archivo, puede indicar una ruta relativa al directorio base del contexto de datos. De lo contrario, debe proporcionar la ruta absoluta a la carpeta que contiene los datos.\n"
   ]
  },
  {
   "cell_type": "code",
   "execution_count": 8,
   "id": "a7856358",
   "metadata": {},
   "outputs": [],
   "source": [
    "source_folder = \"../data\"\n",
    "data_source_name = \"pragmaticos_test\""
   ]
  },
  {
   "cell_type": "markdown",
   "id": "27668f98",
   "metadata": {},
   "source": [
    "2. Añada una fuente de datos Filesystem a su contexto de datos.\n",
    "\n",
    "GX puede utilizar pandas o Spark como backend para su Filesystem Data Source. Para crear su fuente de datos, ejecute uno de los siguientes conjuntos de código:"
   ]
  },
  {
   "cell_type": "code",
   "execution_count": 9,
   "id": "1d1dfc0b",
   "metadata": {},
   "outputs": [],
   "source": [
    "data_source = context.data_sources.add_pandas_filesystem(\n",
    "    name=data_source_name,\n",
    "    base_directory=source_folder\n",
    ")"
   ]
  },
  {
   "cell_type": "markdown",
   "id": "25fe97d9",
   "metadata": {},
   "source": [
    "## Crear un Data Asset\n",
    "\n",
    "Un Activo de Datos es una colección de registros relacionados dentro de una Fuente de Datos. Estos registros pueden estar ubicados en varios archivos, pero cada Activo de Datos sólo es capaz de leer un único formato de archivo específico que se determina en el momento de su creación. Sin embargo, una Fuente de Datos puede contener múltiples Activos de Datos que cubran diferentes formatos de archivo y grupos de registros.\n",
    "\n",
    "GX proporciona dos tipos de Activos de Datos para las Fuentes de Datos del Sistema de Archivos: Activos de Datos de Archivos y Activos de Datos de Directorios.\n",
    "\n",
    "* **File Data Asset:**  Los File Data Assets se utilizan para recuperar datos de archivos individuales en formatos como .csv o .parquet. El formato de archivo que puede leer un Activo de datos de archivo se determina cuando se crea el Activo de datos de archivo. El archivo específico que se lee viene determinado por las Definiciones de Lote que se añaden al Activo de Datos tras su creación.\n",
    "\n",
    "Tanto Spark como pandas Filesystem Data Sources soportan File Data Assets para todos los entornos Filesystem soportados.\n",
    "\n",
    "* **Directory Data Asset:** Los Activos de datos de directorio leen uno o más archivos en formatos como .csv o .parquet. El formato de archivo que puede leer un Activo de datos de directorio se determina cuando se crea el Activo de datos de directorio. Los datos de los archivos correspondientes se concatenan en una única tabla que puede recuperarse en su totalidad o dividirse en función del valor de un campo de fecha y hora.\n",
    "\n",
    "Spark Filesystem Data Sources soporta Directory Data Assets para todos los entornos Filesystem soportados. Sin embargo, pandas Filesystem Data Sources no soporta Directory Data Assets en absoluto."
   ]
  },
  {
   "cell_type": "code",
   "execution_count": 12,
   "id": "bf82b391",
   "metadata": {},
   "outputs": [
    {
     "name": "stdout",
     "output_type": "stream",
     "text": [
      "pragmaticos_test\n",
      "base_directory: ..\\data\n",
      "id: 03d970ef-9b9b-4d0d-a905-130e3747f94c\n",
      "name: pragmaticos_test\n",
      "type: pandas_filesystem\n",
      "\n"
     ]
    }
   ],
   "source": [
    "print(data_source_name); print(data_source)"
   ]
  },
  {
   "cell_type": "code",
   "execution_count": 13,
   "id": "3336f17f",
   "metadata": {},
   "outputs": [],
   "source": [
    "asset_name = \"pragmaticos_csv_files\""
   ]
  },
  {
   "cell_type": "code",
   "execution_count": 14,
   "id": "f4f80c95",
   "metadata": {},
   "outputs": [],
   "source": [
    "file_csv_asset = data_source.add_csv_asset(name=asset_name)"
   ]
  },
  {
   "cell_type": "markdown",
   "id": "d0679c37",
   "metadata": {},
   "source": [
    "## Crear una Batch Definition\n",
    "\n",
    "Una Definición de lote permite solicitar todos los registros de un Activo de datos o un subconjunto basado en el contenido de un campo de fecha y hora."
   ]
  },
  {
   "cell_type": "code",
   "execution_count": 19,
   "id": "ceb59026",
   "metadata": {},
   "outputs": [],
   "source": [
    "batch_definition_name = \"pragmaticos_test.csv\"\n",
    "batch_definition_path = \"../data/pragmaticos_test.csv\""
   ]
  },
  {
   "cell_type": "code",
   "execution_count": 20,
   "id": "f33069aa",
   "metadata": {},
   "outputs": [
    {
     "ename": "PathNotFoundError",
     "evalue": "Provided path was not able to be resolved: ../data/pragmaticos_test.csv ",
     "output_type": "error",
     "traceback": [
      "\u001b[31m---------------------------------------------------------------------------\u001b[39m",
      "\u001b[31mPathNotFoundError\u001b[39m                         Traceback (most recent call last)",
      "\u001b[36mCell\u001b[39m\u001b[36m \u001b[39m\u001b[32mIn[20]\u001b[39m\u001b[32m, line 1\u001b[39m\n\u001b[32m----> \u001b[39m\u001b[32m1\u001b[39m batch_definition = \u001b[43mfile_csv_asset\u001b[49m\u001b[43m.\u001b[49m\u001b[43madd_batch_definition_path\u001b[49m\u001b[43m(\u001b[49m\n\u001b[32m      2\u001b[39m \u001b[43m    \u001b[49m\u001b[43mname\u001b[49m\u001b[43m=\u001b[49m\u001b[43mbatch_definition_name\u001b[49m\u001b[43m,\u001b[49m\n\u001b[32m      3\u001b[39m \u001b[43m    \u001b[49m\u001b[43mpath\u001b[49m\u001b[43m=\u001b[49m\u001b[43mbatch_definition_path\u001b[49m\n\u001b[32m      4\u001b[39m \u001b[43m)\u001b[49m\n",
      "\u001b[36mFile \u001b[39m\u001b[32mc:\\Users\\User\\Desktop\\pragma-data-lake\\.venv\\Lib\\site-packages\\great_expectations\\datasource\\fluent\\data_asset\\path\\file_asset.py:90\u001b[39m, in \u001b[36mFileDataAsset.add_batch_definition_path\u001b[39m\u001b[34m(self, name, path)\u001b[39m\n\u001b[32m     88\u001b[39m \u001b[38;5;66;03m# we require path to match exactly 1 file\u001b[39;00m\n\u001b[32m     89\u001b[39m \u001b[38;5;28;01mif\u001b[39;00m matched_data_references < \u001b[32m1\u001b[39m:\n\u001b[32m---> \u001b[39m\u001b[32m90\u001b[39m     \u001b[38;5;28;01mraise\u001b[39;00m PathNotFoundError(path=path)\n\u001b[32m     91\u001b[39m \u001b[38;5;28;01melif\u001b[39;00m matched_data_references > \u001b[32m1\u001b[39m:\n\u001b[32m     92\u001b[39m     \u001b[38;5;28;01mraise\u001b[39;00m AmbiguousPathError(path=path)\n",
      "\u001b[31mPathNotFoundError\u001b[39m: Provided path was not able to be resolved: ../data/pragmaticos_test.csv "
     ]
    }
   ],
   "source": [
    "batch_definition = file_csv_asset.add_batch_definition_path(\n",
    "    name=batch_definition_name,\n",
    "    path=batch_definition_path\n",
    ")"
   ]
  },
  {
   "cell_type": "code",
   "execution_count": null,
   "id": "66734efc",
   "metadata": {},
   "outputs": [],
   "source": []
  },
  {
   "cell_type": "code",
   "execution_count": 26,
   "id": "af273d49",
   "metadata": {},
   "outputs": [],
   "source": [
    "import great_expectations as gx\n",
    "from pathlib import Path"
   ]
  },
  {
   "cell_type": "code",
   "execution_count": 27,
   "id": "3d52f1a0",
   "metadata": {},
   "outputs": [
    {
     "data": {
      "text/plain": [
       "PandasFilesystemDatasource(type='pandas_filesystem', name='csv_filesystem', id=UUID('fe152782-bb25-4da8-87e9-a27180f62d64'), assets=[], base_directory=WindowsPath('../data'), data_context_root_directory=None)"
      ]
     },
     "execution_count": 27,
     "metadata": {},
     "output_type": "execute_result"
    }
   ],
   "source": [
    "# Paso 1: definir un Data Source de tipo pandas para CSVs en disco\n",
    "data_source = context.data_sources.add_pandas_filesystem(\n",
    "    name=\"csv_filesystem\",\n",
    "    base_directory=Path(\"../data\")  # Ruta relativa desde notebooks/ a la carpeta data/\n",
    ")\n",
    "\n",
    "# Verifica que se creó correctamente\n",
    "data_source\n"
   ]
  },
  {
   "cell_type": "code",
   "execution_count": 28,
   "id": "07ad3ba4",
   "metadata": {},
   "outputs": [
    {
     "data": {
      "text/plain": [
       "CSVAsset(name='pragmaticos_test', type='csv', id=UUID('cc1a3bdc-6cf7-4b26-b571-e596d6ef7dd2'), order_by=[], batch_metadata={}, batch_definitions=[], connect_options={}, sep=None, delimiter=None, header='infer', names=None, index_col=None, usecols=None, dtype=None, engine=None, true_values=None, false_values=None, skipinitialspace=False, skiprows=None, skipfooter=0, nrows=None, na_values=None, keep_default_na=True, na_filter=True, verbose=False, skip_blank_lines=True, parse_dates=None, infer_datetime_format=None, keep_date_col=False, date_format=None, dayfirst=False, cache_dates=True, iterator=False, chunksize=None, compression='infer', thousands=None, decimal='.', lineterminator=None, quotechar='\"', quoting=0, doublequote=True, escapechar=None, comment=None, encoding=None, encoding_errors='strict', dialect=None, on_bad_lines='error', delim_whitespace=False, low_memory=True, memory_map=False, float_precision=None, storage_options=None, dtype_backend=None)"
      ]
     },
     "execution_count": 28,
     "metadata": {},
     "output_type": "execute_result"
    }
   ],
   "source": [
    "# Paso 2: registrar tu archivo pragmaticos_test.csv como un File Data Asset\n",
    "file_data_asset = data_source.add_csv_asset(\n",
    "    name=\"pragmaticos_test\"\n",
    ")\n",
    "\n",
    "# Muestra el objeto para confirmar\n",
    "file_data_asset"
   ]
  },
  {
   "cell_type": "code",
   "execution_count": 30,
   "id": "0c8b6ffc",
   "metadata": {},
   "outputs": [
    {
     "ename": "PathNotFoundError",
     "evalue": "Provided path was not able to be resolved: ../data/pragmaticos_test.csv ",
     "output_type": "error",
     "traceback": [
      "\u001b[31m---------------------------------------------------------------------------\u001b[39m",
      "\u001b[31mPathNotFoundError\u001b[39m                         Traceback (most recent call last)",
      "\u001b[36mCell\u001b[39m\u001b[36m \u001b[39m\u001b[32mIn[30]\u001b[39m\u001b[32m, line 2\u001b[39m\n\u001b[32m      1\u001b[39m \u001b[38;5;66;03m# Paso 3 (versión Windows): usar cadena con '/' en vez de Path para evitar backslashes\u001b[39;00m\n\u001b[32m----> \u001b[39m\u001b[32m2\u001b[39m batch_definition = \u001b[43mfile_data_asset\u001b[49m\u001b[43m.\u001b[49m\u001b[43madd_batch_definition_path\u001b[49m\u001b[43m(\u001b[49m\n\u001b[32m      3\u001b[39m \u001b[43m    \u001b[49m\u001b[43mname\u001b[49m\u001b[43m=\u001b[49m\u001b[33;43m\"\u001b[39;49m\u001b[33;43mpragmaticos_test.csv\u001b[39;49m\u001b[33;43m\"\u001b[39;49m\u001b[43m,\u001b[49m\n\u001b[32m      4\u001b[39m \u001b[43m    \u001b[49m\u001b[43mpath\u001b[49m\u001b[43m=\u001b[49m\u001b[33;43m\"\u001b[39;49m\u001b[33;43m../data/pragmaticos_test.csv\u001b[39;49m\u001b[33;43m\"\u001b[39;49m\u001b[43m   \u001b[49m\u001b[38;5;66;43;03m# ruta relativa con forward-slashes\u001b[39;49;00m\n\u001b[32m      5\u001b[39m \u001b[43m)\u001b[49m\n\u001b[32m      7\u001b[39m \u001b[38;5;66;03m# Verifica que la definición existe y apunta correctamente\u001b[39;00m\n\u001b[32m      8\u001b[39m batch_definition\n",
      "\u001b[36mFile \u001b[39m\u001b[32mc:\\Users\\User\\Desktop\\pragma-data-lake\\.venv\\Lib\\site-packages\\great_expectations\\datasource\\fluent\\data_asset\\path\\file_asset.py:90\u001b[39m, in \u001b[36mFileDataAsset.add_batch_definition_path\u001b[39m\u001b[34m(self, name, path)\u001b[39m\n\u001b[32m     88\u001b[39m \u001b[38;5;66;03m# we require path to match exactly 1 file\u001b[39;00m\n\u001b[32m     89\u001b[39m \u001b[38;5;28;01mif\u001b[39;00m matched_data_references < \u001b[32m1\u001b[39m:\n\u001b[32m---> \u001b[39m\u001b[32m90\u001b[39m     \u001b[38;5;28;01mraise\u001b[39;00m PathNotFoundError(path=path)\n\u001b[32m     91\u001b[39m \u001b[38;5;28;01melif\u001b[39;00m matched_data_references > \u001b[32m1\u001b[39m:\n\u001b[32m     92\u001b[39m     \u001b[38;5;28;01mraise\u001b[39;00m AmbiguousPathError(path=path)\n",
      "\u001b[31mPathNotFoundError\u001b[39m: Provided path was not able to be resolved: ../data/pragmaticos_test.csv "
     ]
    }
   ],
   "source": [
    "# Paso 3 (versión Windows): usar cadena con '/' en vez de Path para evitar backslashes\n",
    "batch_definition = file_data_asset.add_batch_definition_path(\n",
    "    name=\"pragmaticos_test.csv\",\n",
    "    path=\"../data/pragmaticos_test.csv\"   # ruta relativa con forward-slashes\n",
    ")\n",
    "\n",
    "# Verifica que la definición existe y apunta correctamente\n",
    "batch_definition\n"
   ]
  },
  {
   "cell_type": "code",
   "execution_count": null,
   "id": "4b09d286",
   "metadata": {},
   "outputs": [],
   "source": []
  }
 ],
 "metadata": {
  "kernelspec": {
   "display_name": "GE (python 3.12)",
   "language": "python",
   "name": "ge-env"
  },
  "language_info": {
   "codemirror_mode": {
    "name": "ipython",
    "version": 3
   },
   "file_extension": ".py",
   "mimetype": "text/x-python",
   "name": "python",
   "nbconvert_exporter": "python",
   "pygments_lexer": "ipython3",
   "version": "3.12.10"
  }
 },
 "nbformat": 4,
 "nbformat_minor": 5
}
